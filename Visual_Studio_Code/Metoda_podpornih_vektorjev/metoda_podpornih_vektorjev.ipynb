{
 "cells": [
  {
   "cell_type": "markdown",
   "metadata": {},
   "source": [
    "# Jakost gibanja plosce s tipali SensorTile.box"
   ]
  },
  {
   "cell_type": "markdown",
   "metadata": {},
   "source": [
    "## Pregled ali se v Orange Data Mining izvede predprocesiranje podatkov pred klasifikacijo z metodo podpornih vektorjev (V tem primeru se zamenjajo manjkajoce vrednosti (ki jih v nasih podatkih ni), nato se vsem vrednostim odsteje odmik (\"offset\") in se jih pomnozi s faktorjem (\"factor\")) "
   ]
  },
  {
   "cell_type": "code",
   "execution_count": 2,
   "metadata": {},
   "outputs": [
    {
     "data": {
      "text/plain": [
       "ContinuousVariable(name='F1_VAR_on_ACC_V',\n",
       "                   number_of_decimals=3,\n",
       "                   compute_value=Normalizer(variable=ContinuousVariable(name='F1_VAR_on_ACC_V',\n",
       "                                                 number_of_decimals=3,\n",
       "                                                 compute_value=ReplaceUnknowns(variable=ContinuousVariable(name='F1_VAR_on_ACC_V',\n",
       "                                                                                    number_of_decimals=3),\n",
       "                                                                 value=0.22330145150297734)),\n",
       "                              offset=0.22330145150297734,\n",
       "                              factor=2.5709241370783027))"
      ]
     },
     "execution_count": 2,
     "metadata": {},
     "output_type": "execute_result"
    }
   ],
   "source": [
    "import pickle\n",
    "\n",
    "with open('../../Orange_Data_Mining/Jakost_gibanja/Metoda_podpornih_vektorjev-Jakost_gibanja.pkcls', 'rb') as model:\n",
    "    lr = pickle.load(model)\n",
    "\n",
    "#lr.domain\n",
    "lr.domain[0]"
   ]
  },
  {
   "cell_type": "markdown",
   "metadata": {},
   "source": [
    "## Preoblikovanje testnih podatkov iz NanoEdge AI Studio za uporabo pri validacija modela metode podpornih vektorjev v X-CUBE-AI (glede na zgornje ugotovitve o predprocesiranju podatkov)"
   ]
  },
  {
   "cell_type": "code",
   "execution_count": 4,
   "metadata": {},
   "outputs": [],
   "source": [
    "# SPREMEMBA TESTNIH PODATKOV ZA SVM\n",
    "import Orange\n",
    "import pickle\n",
    "import pandas as pd\n",
    "\n",
    "# pickleFileSVM -> pickle file with the SVM model\n",
    "# testDataFiles -> list of csv files with test data obtained from NanoEdge AI Studio data manipulation\n",
    "# testDataFilesSVM -> list of csv files where altered test data for testing the SVM model in X-CUBE-AI will be written (these output files should be in the same order \n",
    "# as the input files in testDataFiles from which the data will be altered)\n",
    "def testDataForSVM(pickleFileSVM, testDataFiles, testDataFilesSVM):\n",
    "    with open(pickleFileSVM, 'rb') as model:\n",
    "        lr = pickle.load(model)\n",
    "\n",
    "\n",
    "    for indeks, dat in enumerate(testDataFiles):\n",
    "        df = pd.read_csv(dat, header=None, names=[\"vrednost\"])\n",
    "        df[\"vrednost\"] = (df[\"vrednost\"] - lr.domain[0].compute_value.offset) * lr.domain[0].compute_value.factor\n",
    "        df.to_csv(testDataFilesSVM[indeks], index=False, header=False)\n",
    "\n",
    "\n",
    "\n",
    "datoteke = [\"../../Zajeti_podatki/Jakost_gibanja/Testni_podatki/mirovanje-NEAIS.csv\",\n",
    "            \"../../Zajeti_podatki/Jakost_gibanja/Testni_podatki/srednja_jakost-NEAIS.csv\",\n",
    "            \"../../Zajeti_podatki/Jakost_gibanja/Testni_podatki/velika_jakost-NEAIS.csv\"]\n",
    "\n",
    "datotekeSVM = [\"../../Zajeti_podatki/Jakost_gibanja/Testni_podatki/SVM-mirovanje-NEAIS.csv\",\n",
    "              \"../../Zajeti_podatki/Jakost_gibanja/Testni_podatki/SVM-srednja_jakost-NEAIS.csv\",\n",
    "              \"../../Zajeti_podatki/Jakost_gibanja/Testni_podatki/SVM-velika_jakost-NEAIS.csv\"]\n",
    "\n",
    "svmModel = '../../Orange_Data_Mining/Jakost_gibanja/Metoda_podpornih_vektorjev-Jakost_gibanja.pkcls'\n",
    "\n",
    "testDataForSVM(svmModel, datoteke, datotekeSVM)"
   ]
  },
  {
   "cell_type": "markdown",
   "metadata": {},
   "source": [
    "## Pretvorba metode podpornih vektorjev iz Orange Data Mining v ONNX format"
   ]
  },
  {
   "cell_type": "code",
   "execution_count": 29,
   "metadata": {},
   "outputs": [],
   "source": [
    "import pickle\n",
    "\n",
    "# pickleFile -> pickle file with SVM model\n",
    "# onnxFile -> new onnx file with model converted from pickle file\n",
    "# numberOffloatInputs -> number of features (here we are using floating point values (FloatTensorType), \n",
    "# if you want to use other data types they can be found in skl2onnx.common.data_types from the skl2onnx library)\n",
    "def orangeToONNX(pickleFile, onnxFile, numberOffloatInputs):\n",
    "\n",
    "    with open(pickleFile, 'rb') as model:\n",
    "        lr = pickle.load(model)\n",
    "\n",
    "    skl_model = lr.skl_model\n",
    "\n",
    "\n",
    "\n",
    "    from skl2onnx import convert_sklearn\n",
    "    from skl2onnx.common.data_types import FloatTensorType\n",
    "\n",
    "    initial_type = [('float_input', FloatTensorType([None, numberOffloatInputs]))]\n",
    "    onx = convert_sklearn(skl_model, initial_types=initial_type)\n",
    "    with open(onnxFile, \"wb\") as f:\n",
    "        f.write(onx.SerializeToString())\n",
    "\n",
    "\n",
    "svm = '../../Orange_Data_Mining/Jakost_gibanja/Metoda_podpornih_vektorjev-Jakost_gibanja.pkcls'\n",
    "svmONNX = \"Metoda_podpornih_vektorjev-Jakost_gibanja-ONNX.onnx\"\n",
    "\n",
    "orangeToONNX(svm, svmONNX, 1)"
   ]
  },
  {
   "cell_type": "markdown",
   "metadata": {},
   "source": [
    "## Izracun klasifikacijske tocnosti in mere F1 ter prikaz tabele napacnih klasifikacij (Rezultati iz X-CUBE-AI)"
   ]
  },
  {
   "cell_type": "code",
   "execution_count": 8,
   "metadata": {},
   "outputs": [
    {
     "name": "stdout",
     "output_type": "stream",
     "text": [
      "Klasifikacijska tocnost: 0.7934782608695652\n",
      "Mera F1: 0.7729396977972504\n"
     ]
    },
    {
     "data": {
      "image/png": "[encoded data removed]",
      "text/plain": [
       "<Figure size 432x288 with 2 Axes>"
      ]
     },
     "metadata": {
      "needs_background": "light"
     },
     "output_type": "display_data"
    }
   ],
   "source": [
    "import pandas as pd\n",
    "from sklearn.metrics import accuracy_score, f1_score\n",
    "\n",
    "from sklearn.metrics import confusion_matrix\n",
    "import matplotlib.pyplot as plt\n",
    "from sklearn.metrics import ConfusionMatrixDisplay\n",
    "\n",
    "# datoteke -> list of csv files with classification results (files must be written in order of classification class indices (alphabeticall order of class names))\n",
    "# imenaRazredov -> list of class names for values to be classified to (order is not important as it gets sorted alphabetically)\n",
    "def CA_F1_Matrix(datoteke, imenaRazredov):\n",
    "    dfPred = pd.DataFrame()\n",
    "    arrayTrue = []\n",
    "\n",
    "    for indeks, dat in enumerate(datoteke):\n",
    "        df = pd.read_csv(dat, skiprows=[1, 2, 3]) \n",
    "        df.columns.values[0] = \"class\"\n",
    "\n",
    "        dfPred = pd.concat([dfPred, df], axis=0)\n",
    "\n",
    "        countVal = 0\n",
    "\n",
    "        for i in df['class'].value_counts().index:\n",
    "            countVal += df['class'].value_counts()[i]\n",
    "\n",
    "        arrayTrue += [indeks] * countVal\n",
    "\n",
    "\n",
    "    ###### Print classification accuracy and F1 score\n",
    "    ca = accuracy_score(arrayTrue, dfPred['class'].values.tolist())\n",
    "    f1 = f1_score(arrayTrue, dfPred['class'].values.tolist(), average='weighted')\n",
    "\n",
    "    print(\"Klasifikacijska tocnost: \" + str(ca))\n",
    "    print(\"Mera F1: \" + str(f1))\n",
    "\n",
    "    ###### Display confusion matrix\n",
    "    matrika = confusion_matrix(arrayTrue, dfPred['class'].values.tolist())\n",
    "\n",
    "    orderedClassNames = imenaRazredov.copy()\n",
    "    orderedClassNames.sort()\n",
    "\n",
    "    disp = ConfusionMatrixDisplay(confusion_matrix=matrika, display_labels=orderedClassNames)\n",
    "    disp.plot()\n",
    "    plt.show()\n",
    "\n",
    "\n",
    "###################################################################################################################################################################################\n",
    "\n",
    "\n",
    "datoteke = [\"../../Zajeti_podatki/Jakost_gibanja/Rezultati_klasifikacij-X-CUBE-AI/Metoda_podpornih_vektorjev/validacija-mirovanje.csv\",\n",
    "            \"../../Zajeti_podatki/Jakost_gibanja/Rezultati_klasifikacij-X-CUBE-AI/Metoda_podpornih_vektorjev/validacija-srednja_jakost.csv\",\n",
    "            \"../../Zajeti_podatki/Jakost_gibanja/Rezultati_klasifikacij-X-CUBE-AI/Metoda_podpornih_vektorjev/validacija-velika_jakost.csv\"]\n",
    "\n",
    "imenaRazredov = [\"mirovanje\", \"srednja_jakost\", \"velika_jakost\"]\n",
    "\n",
    "CA_F1_Matrix(datoteke, imenaRazredov)"
   ]
  },
  {
   "cell_type": "markdown",
   "metadata": {},
   "source": [
    "## NanoEdge AI Studio: Izracun klasifikacijske tocnosti in mere F1 ter prikaz tabele napacnih klasifikacij (Rezultati modela metode podpornih vektorjev iz NanoEdge AI Studio)"
   ]
  },
  {
   "cell_type": "code",
   "execution_count": 2,
   "metadata": {},
   "outputs": [
    {
     "name": "stdout",
     "output_type": "stream",
     "text": [
      "Klasifikacijska tocnost: 0.8858695652173914\n",
      "Mera F1: 0.8818056762025257\n"
     ]
    },
    {
     "data": {
      "image/png": "[encoded data removed]",
      "text/plain": [
       "<Figure size 432x288 with 2 Axes>"
      ]
     },
     "metadata": {
      "needs_background": "light"
     },
     "output_type": "display_data"
    }
   ],
   "source": [
    "import pandas as pd\n",
    "from sklearn.metrics import accuracy_score, f1_score\n",
    "\n",
    "from sklearn.metrics import confusion_matrix\n",
    "import matplotlib.pyplot as plt\n",
    "from sklearn.metrics import ConfusionMatrixDisplay\n",
    "\n",
    "# trueClasses -> list of true classification classes\n",
    "# predictedClasses -> list of predicted classification classes (has to be same length as trueClasses)\n",
    "# classNames -> list of classification class names (in alphabetical order)\n",
    "def NEAIS_CA_F1_Matrix(trueClasses, predictedClasses, classNames):\n",
    "    ca = accuracy_score(trueClasses, predictedClasses)\n",
    "    f1 = f1_score(trueClasses, predictedClasses, average='weighted')\n",
    "    print(\"Klasifikacijska tocnost: \" + str(ca))\n",
    "    print(\"Mera F1: \" + str(f1))\n",
    "\n",
    "    matrika = confusion_matrix(trueClasses, predictedClasses)\n",
    "    \n",
    "    disp = ConfusionMatrixDisplay(confusion_matrix=matrika, display_labels=classNames)\n",
    "    disp.plot()\n",
    "    plt.show()\n",
    "\n",
    "\n",
    "arrayPredicted = [0] * 60 + [1] * 41 + [0] * 1 + [2] * 20 + [2] * 62\n",
    "arrayTrue = [0] * 60 + [1] * 62 + [2] * 62\n",
    "imenaRazredov = [\"mirovanje\", \"srednja_jakost\", \"velika_jakost\"]\n",
    "NEAIS_CA_F1_Matrix(arrayTrue, arrayPredicted, imenaRazredov)"
   ]
  },
  {
   "cell_type": "markdown",
   "metadata": {},
   "source": [
    "---"
   ]
  },
  {
   "cell_type": "markdown",
   "metadata": {},
   "source": [
    "# Hoja oseb"
   ]
  },
  {
   "cell_type": "markdown",
   "metadata": {},
   "source": [
    "## Pregled ali se v Orange Data Mining izvede predprocesiranje podatkov pred klasifikacijo z metodo podpornih vektorjev (V tem primeru se zamenjajo manjkajoce vrednosti vseh 16ih atributov (ki jih v nasih podatkih ni), nato se vsem vrednostim vseh 16ih atributov odsteje odmik (\"offset\") in se jih pomnozi s faktorjem (\"factor\")) "
   ]
  },
  {
   "cell_type": "code",
   "execution_count": 25,
   "metadata": {},
   "outputs": [
    {
     "data": {
      "text/plain": [
       "ContinuousVariable(name='F16_acc_Magnituda_RMS',\n",
       "                   number_of_decimals=2,\n",
       "                   compute_value=Normalizer(variable=ContinuousVariable(name='F16_acc_Magnituda_RMS',\n",
       "                                                 number_of_decimals=3,\n",
       "                                                 compute_value=ReplaceUnknowns(variable=ContinuousVariable(name='F16_acc_Magnituda_RMS',\n",
       "                                                                                    number_of_decimals=3),\n",
       "                                                                 value=1.1134635041015108)),\n",
       "                              offset=1.1134635041015108,\n",
       "                              factor=10.457188751844905))"
      ]
     },
     "execution_count": 25,
     "metadata": {},
     "output_type": "execute_result"
    }
   ],
   "source": [
    "import pickle\n",
    "\n",
    "with open('../../Orange_Data_Mining/Hoja_oseb/Metoda_podpornih_vektorjev-Hoja_oseb.pkcls', 'rb') as model:\n",
    "    lr = pickle.load(model)\n",
    "\n",
    "#lr.domain\n",
    "#lr.domain[0]\n",
    "#lr.domain[1]\n",
    "#lr.domain[2]\n",
    "#lr.domain[3]\n",
    "#lr.domain[4]\n",
    "#lr.domain[5]\n",
    "#lr.domain[6]\n",
    "#lr.domain[7]\n",
    "#lr.domain[8]\n",
    "#lr.domain[9]\n",
    "#lr.domain[10]\n",
    "#lr.domain[11]\n",
    "#lr.domain[12]\n",
    "#lr.domain[13]\n",
    "#lr.domain[14]\n",
    "lr.domain[15]"
   ]
  },
  {
   "cell_type": "markdown",
   "metadata": {},
   "source": [
    "## Preoblikovanje testnih podatkov iz NanoEdge AI Studio za uporabo pri validacija modela metode podpornih vektorjev v X-CUBE-AI (glede na zgornje ugotovitve o predprocesiranju podatkov)"
   ]
  },
  {
   "cell_type": "code",
   "execution_count": 26,
   "metadata": {},
   "outputs": [],
   "source": [
    "# SPREMEMBA TESTNIH PODATKOV ZA SVM\n",
    "import Orange\n",
    "import pickle\n",
    "import pandas as pd\n",
    "\n",
    "# pickleFileSVM -> pickle file with the SVM model\n",
    "# testDataFiles -> list of csv files with test data obtained from NanoEdge AI Studio data manipulation\n",
    "# testDataFilesSVM -> list of csv files where altered test data for testing the SVM model in X-CUBE-AI will be written (these output files should be in the same order \n",
    "# as the input files in testDataFiles from which the data will be altered)\n",
    "# atributi -> list of features (feature names are not important as long as there are as many features as there are columns in a testDataFiles file and no two feature names are same),\n",
    "# they will be used in the same order as they are in the columns of testDataFiles\n",
    "def testDataForSVM_MultipleFeatures(pickleFileSVM, testDataFiles, testDataFilesSVM, atributi):\n",
    "    with open(pickleFileSVM, 'rb') as model:\n",
    "        lr = pickle.load(model)\n",
    "\n",
    "    for indeks, dat in enumerate(testDataFiles):\n",
    "        df = pd.read_csv(dat, header=None, names=atributi)\n",
    "        for indeks2, atr in enumerate(atributi):\n",
    "            df[atr] = (df[atr] - lr.domain[indeks2].compute_value.offset) * lr.domain[indeks2].compute_value.factor\n",
    "        df.to_csv(testDataFilesSVM[indeks], index=False, header=False)\n",
    "\n",
    "\n",
    "datoteke = [\"../../Zajeti_podatki/Hoja_oseb/Testni_podatki/Jaz-testiranje-NEAIS.csv\",\n",
    "            \"../../Zajeti_podatki/Hoja_oseb/Testni_podatki/Mami-testiranje-NEAIS.csv\",\n",
    "            \"../../Zajeti_podatki/Hoja_oseb/Testni_podatki/Mirovanje-testiranje-NEAIS.csv\",\n",
    "            \"../../Zajeti_podatki/Hoja_oseb/Testni_podatki/Sestra-testiranje-NEAIS.csv\",\n",
    "            \"../../Zajeti_podatki/Hoja_oseb/Testni_podatki/Vati-testiranje-NEAIS.csv\"]\n",
    "\n",
    "datotekeSVM = [\"../../Zajeti_podatki/Hoja_oseb/Testni_podatki/SVM-Jaz-testiranje-NEAIS.csv\",\n",
    "               \"../../Zajeti_podatki/Hoja_oseb/Testni_podatki/SVM-Mami-testiranje-NEAIS.csv\",\n",
    "               \"../../Zajeti_podatki/Hoja_oseb/Testni_podatki/SVM-Mirovanje-testiranje-NEAIS.csv\",\n",
    "               \"../../Zajeti_podatki/Hoja_oseb/Testni_podatki/SVM-Sestra-testiranje-NEAIS.csv\",\n",
    "               \"../../Zajeti_podatki/Hoja_oseb/Testni_podatki/SVM-Vati-testiranje-NEAIS.csv\"]\n",
    "\n",
    "atributi = [\"f1\",\"f2\",\"f3\",\"f4\",\"f5\",\"f6\",\"f7\",\"f8\",\"f9\",\"f10\",\"f11\",\"f12\",\"f13\",\"f14\",\"f15\",\"f16\"]\n",
    "\n",
    "svm = '../../Orange_Data_Mining/Hoja_oseb/Metoda_podpornih_vektorjev-Hoja_oseb.pkcls'\n",
    "\n",
    "testDataForSVM_MultipleFeatures(svm, datoteke, datotekeSVM, atributi)\n"
   ]
  },
  {
   "cell_type": "markdown",
   "metadata": {},
   "source": [
    "## Pretvorba metode podpornih vektorjev iz Orange Data Mining v ONNX format"
   ]
  },
  {
   "cell_type": "code",
   "execution_count": 30,
   "metadata": {},
   "outputs": [],
   "source": [
    "svm = '../../Orange_Data_Mining/Hoja_oseb/Metoda_podpornih_vektorjev-Hoja_oseb.pkcls'\n",
    "svmONNX = \"Metoda_podpornih_vektorjev-HojaOseb-ONNX.onnx\"\n",
    "\n",
    "orangeToONNX(svm, svmONNX, 16)"
   ]
  },
  {
   "cell_type": "markdown",
   "metadata": {},
   "source": [
    "## Izracun klasifikacijske tocnosti in mere F1 ter prikaz tabele napacnih klasifikacij (Rezultati iz X-CUBE-AI)"
   ]
  },
  {
   "cell_type": "code",
   "execution_count": 31,
   "metadata": {},
   "outputs": [
    {
     "name": "stdout",
     "output_type": "stream",
     "text": [
      "Klasifikacijska tocnost: 0.9441723800195886\n",
      "Mera F1: 0.9439016866471232\n"
     ]
    },
    {
     "data": {
      "image/png": "[encoded data removed]",
      "text/plain": [
       "<Figure size 432x288 with 2 Axes>"
      ]
     },
     "metadata": {
      "needs_background": "light"
     },
     "output_type": "display_data"
    }
   ],
   "source": [
    "\n",
    "datoteke = [\"../../Zajeti_podatki/Hoja_oseb/Rezultati_klasifikacij-X-CUBE-AI/Metoda_podpornih_vektorjev/REZULTATI-Jaz-SVM.csv\",\n",
    "            \"../../Zajeti_podatki/Hoja_oseb/Rezultati_klasifikacij-X-CUBE-AI/Metoda_podpornih_vektorjev/REZULTATI-Mami-SVM.csv\",\n",
    "            \"../../Zajeti_podatki/Hoja_oseb/Rezultati_klasifikacij-X-CUBE-AI/Metoda_podpornih_vektorjev/REZULTATI-Mirovanje-SVM.csv\",\n",
    "            \"../../Zajeti_podatki/Hoja_oseb/Rezultati_klasifikacij-X-CUBE-AI/Metoda_podpornih_vektorjev/REZULTATI-Sestra-SVM.csv\",\n",
    "            \"../../Zajeti_podatki/Hoja_oseb/Rezultati_klasifikacij-X-CUBE-AI/Metoda_podpornih_vektorjev/REZULTATI-Vati-SVM.csv\"]\n",
    "\n",
    "imenaRazredov = [\"jaz\", \"mami\", \"mirovanje\", \"sestra\", \"vati\"]\n",
    "\n",
    "CA_F1_Matrix(datoteke, imenaRazredov)"
   ]
  },
  {
   "cell_type": "markdown",
   "metadata": {},
   "source": [
    "## NanoEdge AI Studio: Izracun klasifikacijske tocnosti in mere F1 ter prikaz tabele napacnih klasifikacij (Rezultati modela metode podpornih vektorjev iz NanoEdge AI Studio)"
   ]
  },
  {
   "cell_type": "code",
   "execution_count": 3,
   "metadata": {},
   "outputs": [
    {
     "name": "stdout",
     "output_type": "stream",
     "text": [
      "Klasifikacijska tocnost: 0.5925563173359452\n",
      "Mera F1: 0.5096355277166625\n"
     ]
    },
    {
     "data": {
      "image/png": "[encoded data removed]",
      "text/plain": [
       "<Figure size 432x288 with 2 Axes>"
      ]
     },
     "metadata": {
      "needs_background": "light"
     },
     "output_type": "display_data"
    }
   ],
   "source": [
    "arrayPredicted = [0] * 97 + [1] * 452 + [2] * 1 + [3] * 60 +    [1] * 538 + [0] * 30 + [2] * 10 + [3] * 38 +    [2] * 610 + [1] * 2 +    [3] * 570 + [0] * 30 + [1] * 7 + [2] * 2 +    [4] * 0 + [0] * 181 + [1] * 281 + [2] * 23 + [3] * 131\n",
    "arrayTrue = [0] * 610 + [1] * 616 + [2] * 612 + [3] * 609 + [4] * 616\n",
    "imenaRazredov = [\"jaz\", \"mami\", \"mirovanje\", \"sestra\", \"vati\"]\n",
    "NEAIS_CA_F1_Matrix(arrayTrue, arrayPredicted, imenaRazredov)\n"
   ]
  }
 ],
 "metadata": {
  "kernelspec": {
   "display_name": "Python 3",
   "language": "python",
   "name": "python3"
  },
  "language_info": {
   "codemirror_mode": {
    "name": "ipython",
    "version": 3
   },
   "file_extension": ".py",
   "mimetype": "text/x-python",
   "name": "python",
   "nbconvert_exporter": "python",
   "pygments_lexer": "ipython3",
   "version": "3.8.8"
  },
  "orig_nbformat": 4
 },
 "nbformat": 4,
 "nbformat_minor": 2
}
