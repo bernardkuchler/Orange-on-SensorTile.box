{
 "cells": [
  {
   "cell_type": "markdown",
   "metadata": {},
   "source": [
    "# Jakost gibanja plosce s tipali SensorTile.box"
   ]
  },
  {
   "cell_type": "markdown",
   "metadata": {},
   "source": [
    "## Pregled ali se v Orange Data Mining izvede predprocesiranje podatkov pred klasifikacijo s klasifikacijskim drevesom (V tem primeru se ne izvaja predprocesiranje podatkov) "
   ]
  },
  {
   "cell_type": "code",
   "execution_count": 15,
   "metadata": {},
   "outputs": [
    {
     "data": {
      "text/plain": [
       "ContinuousVariable(name='F1_VAR_on_ACC_V', number_of_decimals=3)"
      ]
     },
     "execution_count": 15,
     "metadata": {},
     "output_type": "execute_result"
    }
   ],
   "source": [
    "import pickle\n",
    "\n",
    "with open('../../Orange_Data_Mining/Jakost_gibanja/Klasifikacijsko_drevo-Jakost_gibanja.pkcls', 'rb') as model:\n",
    "    lr = pickle.load(model)\n",
    "\n",
    "#lr.domain\n",
    "lr.domain[0]"
   ]
  },
  {
   "cell_type": "markdown",
   "metadata": {},
   "source": [
    "## Prikaz klasifikacijskega modela iz Orange Data Mining"
   ]
  },
  {
   "cell_type": "code",
   "execution_count": 1,
   "metadata": {},
   "outputs": [
    {
     "name": "stderr",
     "output_type": "stream",
     "text": [
      "f:\\FRI_novSSD\\Orange\\lib\\site-packages\\pyqtgraph\\colors\\palette.py:1: RuntimeWarning: PyQtGraph supports Qt version >= 5.15, but 5.12.9 detected.\n",
      "  from ..Qt import QtGui\n"
     ]
    },
    {
     "name": "stdout",
     "output_type": "stream",
     "text": [
      "       [60.  0.  0.] F1_VAR_on_ACC_V ≤ 7.60756e-07\n",
      "       [ 0. 62. 62.] F1_VAR_on_ACC_V > 7.60756e-07\n",
      "       [ 0. 61.  4.]     F1_VAR_on_ACC_V ≤ 0.120615\n",
      "       [ 0. 51.  0.]         F1_VAR_on_ACC_V ≤ 0.0457891\n",
      "       [ 0. 10.  4.]         F1_VAR_on_ACC_V > 0.0457891\n",
      "       [ 0.  1. 58.]     F1_VAR_on_ACC_V > 0.120615\n",
      "\n"
     ]
    }
   ],
   "source": [
    "import pickle\n",
    "\n",
    "with open('../../Orange_Data_Mining/Jakost_gibanja/Klasifikacijsko_drevo-Jakost_gibanja.pkcls', 'rb') as model:\n",
    "    lr = pickle.load(model)#pickle.loads(model)\n",
    "\n",
    "printed_tree = lr.print_tree()\n",
    "for i in printed_tree.split('\\n'):\n",
    "    print(i)"
   ]
  },
  {
   "cell_type": "markdown",
   "metadata": {},
   "source": [
    "## Pretvorba zapisa klasifikacijskega drevesa iz Orange Data Mining v obliko, ki se jo lahko uporabi v programu Unico GUI (zapis se shrani v datoteko txt)"
   ]
  },
  {
   "cell_type": "code",
   "execution_count": 3,
   "metadata": {},
   "outputs": [],
   "source": [
    "import pickle\n",
    "\n",
    "# pickleFile -> pickle file with classification tree\n",
    "# newTxtFile -> new txt file with classification tree to be used in Unico-GUI\n",
    "# classNames -> list of class names for values to be classified to (order is not important as it gets sorted alphabetically)\n",
    "def orangeToUnicoTree(pickleFile, newTxtFile, classNames):\n",
    "    orderedClassNames = classNames.copy()\n",
    "    orderedClassNames.sort()\n",
    "\n",
    "    with open(pickleFile, 'rb') as model:\n",
    "        lr = pickle.load(model)#pickle.loads(model)\n",
    "\n",
    "    printed_tree = lr.print_tree()\n",
    "    splited_tree = printed_tree.strip().split('\\n')\n",
    "    new_line = \"\"\n",
    "    numberOfLeaves = 0\n",
    "    numberOfNodes = 1 #0\n",
    "\n",
    "    for i in range(len(splited_tree)):\n",
    "        splited_tree[i] = splited_tree[i].strip()\n",
    "\n",
    "    with open(newTxtFile, 'w') as f:\n",
    "        f.write(\"\\n\")\n",
    "\n",
    "        for i in range(len(splited_tree)):\n",
    "            new_line = \"\"\n",
    "            if(i+1 < len(splited_tree)):\n",
    "                numberOfCurrRowIndents = 0\n",
    "                numberOfNextRowIndents = 0\n",
    "\n",
    "                start = splited_tree[i].find(\"]\")\n",
    "                start += 2\n",
    "                for j in range(start, len(splited_tree[i]), 4):\n",
    "                    if(splited_tree[i][j] == \" \"):\n",
    "                        new_line += \"|   \"\n",
    "                        numberOfCurrRowIndents += 1\n",
    "                    else:\n",
    "                        break\n",
    "                new_line += splited_tree[i][start+numberOfCurrRowIndents*4:]\n",
    "\n",
    "                startNext = splited_tree[i+1].find(\"]\")\n",
    "                startNext += 2\n",
    "                for j in range(startNext, len(splited_tree[i+1]), 4):\n",
    "                    if(splited_tree[i+1][j] == \" \"):\n",
    "                        numberOfNextRowIndents += 1\n",
    "                    else:\n",
    "                        break         \n",
    "\n",
    "                if(not (numberOfCurrRowIndents < numberOfNextRowIndents)): #check indent\n",
    "                    numberOfLeaves += 1\n",
    "                    classValues = splited_tree[i][1:start-3].split(\".\")\n",
    "                    classValues = [int(value) for value in classValues] #turn to integers to compare numbers\n",
    "                    max_index = classValues.index(max(classValues))\n",
    "                    new_line += \": \" + orderedClassNames[max_index]\n",
    "                    numberOfNodes += 2\n",
    "\n",
    "\n",
    "            else: #Last line is leaf node\n",
    "                numberOfCurrRowIndents = 0\n",
    "\n",
    "                start = splited_tree[i].find(\"]\")\n",
    "                start += 2\n",
    "                for j in range(start, len(splited_tree[i]), 4):\n",
    "                    if(splited_tree[i][j] == \" \"):\n",
    "                        new_line += \"|   \"\n",
    "                        numberOfCurrRowIndents += 1\n",
    "                    else:\n",
    "                        break\n",
    "                new_line += splited_tree[i][start+numberOfCurrRowIndents*4:]\n",
    "\n",
    "                classValues = splited_tree[i][1:start-3].split(\".\")\n",
    "                max_index = classValues.index(max(classValues))\n",
    "                new_line += \": \" + orderedClassNames[max_index]\n",
    "\n",
    "                numberOfLeaves += 1\n",
    "\n",
    "            new_line = new_line.replace(\"≤\", \"<=\")\n",
    "            f.write(new_line + \"\\n\")\n",
    "\n",
    "        f.write(\"\\n\")\n",
    "        f.write(\"Number of Leaves  : \t \" + str(numberOfLeaves) + \"\\n\")\n",
    "        f.write(\"\\n\")\n",
    "        f.write(\"Size of the Tree : \t \" + str(numberOfNodes) + \"\\n\")\n",
    "\n",
    "\n",
    "class_names = [\"mirovanje\", \"srednja_jakost\", \"velika_jakost\"]\n",
    "drevo = '../../Orange_Data_Mining/Jakost_gibanja/Klasifikacijsko_drevo-Jakost_gibanja.pkcls'\n",
    "datotekaZNovimZapisom = 'DrevoJakostGibanjaTXT-Orange.txt'\n",
    "\n",
    "orangeToUnicoTree(drevo, datotekaZNovimZapisom, class_names)"
   ]
  },
  {
   "cell_type": "markdown",
   "metadata": {},
   "source": [
    "## Sprememba klasifikacijskega drevesa iz .txt datoteke v if-else stavke, ki se lahko izvedejo v programski kodi Python (programska koda se shrani v datoteko txt)"
   ]
  },
  {
   "cell_type": "markdown",
   "metadata": {},
   "source": [
    "### Klasifikacijsko drevo iz Orange Data Mining"
   ]
  },
  {
   "cell_type": "code",
   "execution_count": 4,
   "metadata": {},
   "outputs": [],
   "source": [
    "# treeTxtFile -> txt file with classification tree to be used in Unico-GUI\n",
    "# newTxtFile -> new txt file with with classification tree turned to If-Else statements in Python code\n",
    "def txtTreeToIfElseStatements(treeTxtFile, newTxtFile):\n",
    "    with open(treeTxtFile, 'r') as model:\n",
    "        drevo = model.read()\n",
    "\n",
    "    vrstice = drevo.strip().split('\\n')\n",
    "\n",
    "\n",
    "    with open(newTxtFile, 'w') as f:\n",
    "        f.write(\"import pandas as pd\" + \"\\n\")\n",
    "        f.write(\"dfIzhod = []\" + \"\\n\")\n",
    "        f.write(\"\\n\")\n",
    "        f.write(\"def klasifikacija(vhodnaVrednost): \\n\")\n",
    "\n",
    "        stevecZamakov = -1\n",
    "        konecIzvajanja = False\n",
    "\n",
    "        for i in range(len(vrstice)):\n",
    "\n",
    "            if(konecIzvajanja):\n",
    "                break\n",
    "\n",
    "            ifStavek = \"\"\n",
    "            besede = vrstice[i].split()\n",
    "            for j in range(len(besede)):\n",
    "                if besede[j][0] == '<' or besede[j][0] == '>':\n",
    "\n",
    "                    f.write(\"\\t\")\n",
    "                    f.write(\"\\t\" * (j-1))\n",
    "\n",
    "                    if(j-1 <= stevecZamakov):\n",
    "                        f.write(\"el\")\n",
    "                        stevecZamakov = j-1\n",
    "                    elif(j-1 > stevecZamakov):\n",
    "                        stevecZamakov = j-1\n",
    "\n",
    "                    if j+2 < len(besede):\n",
    "                        f.write( \"if vhodnaVrednost[\\\"\" + besede[j-1] + \"\\\"] \" + besede[j] + \" \" + besede[j+1] + \"\\n\")\n",
    "                        f.write(\"\\t\" * (j+1) + \"dfIzhod.append(\\\"\" + besede[j+2] + \"\\\") \" + \"\\n\")\n",
    "                    else:\n",
    "                        f.write( \"if vhodnaVrednost[\\\"\" + besede[j-1] + \"\\\"] \" + besede[j] + \" \" + besede[j+1] + \": \\n\")\n",
    "                    break\n",
    "\n",
    "                elif len(besede[j]) == 1 and besede[j][0] == ':':\n",
    "                    konecIzvajanja = True\n",
    "                    break\n",
    "\n",
    "txtTreeToIfElseStatements('DrevoJakostGibanjaTXT-Orange.txt', 'DrevoJakostGibanja-IF_ELSE-Orange.txt')\n"
   ]
  },
  {
   "cell_type": "markdown",
   "metadata": {},
   "source": [
    "### Klasifikacijsko drevo iz Unico-GUI"
   ]
  },
  {
   "cell_type": "code",
   "execution_count": 5,
   "metadata": {},
   "outputs": [],
   "source": [
    "potDoUnicoDrevesa = '../../AlgoBuilder/Klasifikacijsko_drevo-Jakost_gibanja/ST_decision_tree_20230607_113100_235.txt'\n",
    "txtTreeToIfElseStatements(potDoUnicoDrevesa, 'DrevoJakostGibanja-IF_ELSE-Unico.txt')\n"
   ]
  },
  {
   "cell_type": "markdown",
   "metadata": {},
   "source": [
    "## Uporaba if-else stavkov klasifikacijskega drevesa za izracun klasifikacijske tocnosti in mere F1"
   ]
  },
  {
   "cell_type": "markdown",
   "metadata": {},
   "source": [
    "### Klasifikacijsko drevo iz Orange Data Mining"
   ]
  },
  {
   "cell_type": "code",
   "execution_count": 6,
   "metadata": {},
   "outputs": [
    {
     "name": "stdout",
     "output_type": "stream",
     "text": [
      "Klasifikacijska tocnost: 0.875\n",
      "Mera F1: 0.8752770657729528\n"
     ]
    }
   ],
   "source": [
    "import pandas as pd\n",
    "dfIzhod = []\n",
    "\n",
    "def klasifikacija(vhodnaVrednost): \n",
    "\tif vhodnaVrednost[\"F1_VAR_on_ACC_V\"] <= 7.60756e-07:\n",
    "\t\tdfIzhod.append(\"mirovanje\") \n",
    "\telif vhodnaVrednost[\"F1_VAR_on_ACC_V\"] > 7.60756e-07: \n",
    "\t\tif vhodnaVrednost[\"F1_VAR_on_ACC_V\"] <= 0.120615: \n",
    "\t\t\tif vhodnaVrednost[\"F1_VAR_on_ACC_V\"] <= 0.0457891:\n",
    "\t\t\t\tdfIzhod.append(\"srednja_jakost\") \n",
    "\t\t\telif vhodnaVrednost[\"F1_VAR_on_ACC_V\"] > 0.0457891:\n",
    "\t\t\t\tdfIzhod.append(\"srednja_jakost\") \n",
    "\t\telif vhodnaVrednost[\"F1_VAR_on_ACC_V\"] > 0.120615:\n",
    "\t\t\tdfIzhod.append(\"velika_jakost\") \n",
    "\n",
    "df = pd.read_csv('../../Zajeti_podatki/Jakost_gibanja/Testni_podatki/zdruzeni_testni_podatki-varianca.csv')\n",
    "\n",
    "df.apply(lambda row : klasifikacija(row), axis = 1)\n",
    "\n",
    "from sklearn.metrics import accuracy_score, f1_score\n",
    "\n",
    "print(\"Klasifikacijska tocnost: \" + str(accuracy_score(df[\"class\"].values.tolist(), dfIzhod)))\n",
    "print(\"Mera F1: \" + str(f1_score(df[\"class\"].values.tolist(), dfIzhod, average='weighted')))\n"
   ]
  },
  {
   "cell_type": "markdown",
   "metadata": {},
   "source": [
    "### Klasifikacijsko drevo iz Unico-GUI"
   ]
  },
  {
   "cell_type": "code",
   "execution_count": 7,
   "metadata": {},
   "outputs": [
    {
     "name": "stdout",
     "output_type": "stream",
     "text": [
      "Klasifikacijska tocnost: 0.8152173913043478\n",
      "Mera F1: 0.8099008047944183\n"
     ]
    }
   ],
   "source": [
    "import pandas as pd\n",
    "dfIzhod = []\n",
    "\n",
    "def klasifikacija(vhodnaVrednost): \n",
    "\tif vhodnaVrednost[\"F1_VAR_on_ACC_V\"] <= 0.050293: \n",
    "\t\tif vhodnaVrednost[\"F1_VAR_on_ACC_V\"] <= 0.00585938: \n",
    "\t\t\tif vhodnaVrednost[\"F1_VAR_on_ACC_V\"] <= 0.000976563: \n",
    "\t\t\t\tif vhodnaVrednost[\"F1_VAR_on_ACC_V\"] <= 0:\n",
    "\t\t\t\t\tdfIzhod.append(\"srednja_jakost\") \n",
    "\t\t\t\telif vhodnaVrednost[\"F1_VAR_on_ACC_V\"] > 0:\n",
    "\t\t\t\t\tdfIzhod.append(\"mirovanje\") \n",
    "\t\t\telif vhodnaVrednost[\"F1_VAR_on_ACC_V\"] > 0.000976563: \n",
    "\t\t\t\tif vhodnaVrednost[\"F1_VAR_on_ACC_V\"] <= 0.00390625:\n",
    "\t\t\t\t\tdfIzhod.append(\"mirovanje\") \n",
    "\t\t\t\telif vhodnaVrednost[\"F1_VAR_on_ACC_V\"] > 0.00390625: \n",
    "\t\t\t\t\tif vhodnaVrednost[\"F1_VAR_on_ACC_V\"] <= 0.00488281:\n",
    "\t\t\t\t\t\tdfIzhod.append(\"srednja_jakost\") \n",
    "\t\t\t\t\telif vhodnaVrednost[\"F1_VAR_on_ACC_V\"] > 0.00488281:\n",
    "\t\t\t\t\t\tdfIzhod.append(\"mirovanje\") \n",
    "\t\telif vhodnaVrednost[\"F1_VAR_on_ACC_V\"] > 0.00585938:\n",
    "\t\t\tdfIzhod.append(\"srednja_jakost\") \n",
    "\telif vhodnaVrednost[\"F1_VAR_on_ACC_V\"] > 0.050293: \n",
    "\t\tif vhodnaVrednost[\"F1_VAR_on_ACC_V\"] <= 0.118164:\n",
    "\t\t\tdfIzhod.append(\"srednja_jakost\") \n",
    "\t\telif vhodnaVrednost[\"F1_VAR_on_ACC_V\"] > 0.118164:\n",
    "\t\t\tdfIzhod.append(\"velika_jakost\") \n",
    "\n",
    "df = pd.read_csv('../../Zajeti_podatki/Jakost_gibanja/Testni_podatki/zdruzeni_testni_podatki-varianca.csv')\n",
    "\n",
    "df.apply(lambda row : klasifikacija(row), axis = 1)\n",
    "\n",
    "from sklearn.metrics import accuracy_score, f1_score\n",
    "\n",
    "print(\"Klasifikacijska tocnost: \" + str(accuracy_score(df[\"class\"].values.tolist(), dfIzhod)))\n",
    "print(\"Mera F1: \" + str(f1_score(df[\"class\"].values.tolist(), dfIzhod, average='weighted')))\n"
   ]
  },
  {
   "cell_type": "markdown",
   "metadata": {},
   "source": [
    "---"
   ]
  },
  {
   "cell_type": "markdown",
   "metadata": {},
   "source": [
    "# Hoja oseb"
   ]
  },
  {
   "cell_type": "markdown",
   "metadata": {},
   "source": [
    "## Pregled ali se v Orange Data Mining izvede predprocesiranje podatkov pred klasifikacijo s klasifikacijskim drevesom (V tem primeru se ne izvaja predprocesiranje podatkov nad nobenim od 16ih atributov) "
   ]
  },
  {
   "cell_type": "code",
   "execution_count": 38,
   "metadata": {},
   "outputs": [
    {
     "data": {
      "text/plain": [
       "ContinuousVariable(name='F16_MAX_on_ACC_V', number_of_decimals=3)"
      ]
     },
     "execution_count": 38,
     "metadata": {},
     "output_type": "execute_result"
    }
   ],
   "source": [
    "import pickle\n",
    "\n",
    "with open('../../Orange_Data_Mining/Hoja_oseb/Klasifikacijsko_drevo-Hoja_oseb.pkcls', 'rb') as model:\n",
    "    lr = pickle.load(model)\n",
    "\n",
    "#LOCENO PREVERJANJE VSAKEGA ATRIBUTA (ukaz print() ne izpise predprocesiranja podatkov za posamezni atribut)\n",
    "#lr.domain\n",
    "#lr.domain[0]\n",
    "#lr.domain[1]\n",
    "#lr.domain[2]\n",
    "#lr.domain[3]\n",
    "#lr.domain[4]\n",
    "#lr.domain[5]\n",
    "#lr.domain[6]\n",
    "#lr.domain[7]\n",
    "#lr.domain[8]\n",
    "#lr.domain[9]\n",
    "#lr.domain[10]\n",
    "#lr.domain[11]\n",
    "#lr.domain[12]\n",
    "#lr.domain[13]\n",
    "#lr.domain[14]\n",
    "lr.domain[15]"
   ]
  },
  {
   "cell_type": "markdown",
   "metadata": {},
   "source": [
    "## Prikaz klasifikacijskega modela iz Orange Data Mining"
   ]
  },
  {
   "cell_type": "code",
   "execution_count": 8,
   "metadata": {},
   "outputs": [
    {
     "name": "stdout",
     "output_type": "stream",
     "text": [
      "[ 14. 302.  51. 303. 307.] F2_MEAN_on_ACC_Y ≤ 0.00819231\n",
      "[ 14. 260.  51.   8. 280.]     F8_VAR_on_ACC_V ≤ 0.131636\n",
      "[  2.   3.  51.   5. 204.]         F10_MIN_on_ACC_Y ≤ -0.84\n",
      "[  1.   3.   0.   5. 204.]             F13_MAX_on_ACC_X ≤ -0.163\n",
      "[ 1.  0. 51.  0.  0.]             F13_MAX_on_ACC_X > -0.163\n",
      "[ 12. 257.   0.   3.  76.]         F10_MIN_on_ACC_Y > -0.84\n",
      "[ 7. 18.  0.  0. 64.]             F3_MEAN_on_ACC_Z ≤ -0.045375\n",
      "[ 7. 10.  0.  0.  1.]                 F9_MIN_on_ACC_X ≤ -1.657\n",
      "[ 0.  8.  0.  0. 63.]                 F9_MIN_on_ACC_X > -1.657\n",
      "[ 0.  1.  0.  0. 46.]                     F4_MEAN_on_ACC_V ≤ 1.04024\n",
      "[ 0.  7.  0.  0. 17.]                     F4_MEAN_on_ACC_V > 1.04024\n",
      "    [0. 6. 0. 0. 5.]                         F14_MAX_on_ACC_Y ≤ 0.428\n",
      "[ 0.  1.  0.  0. 12.]                         F14_MAX_on_ACC_Y > 0.428\n",
      "[  5. 239.   0.   3.  12.]             F3_MEAN_on_ACC_Z > -0.045375\n",
      "[ 0. 13.  0.  0. 10.]                 F2_MEAN_on_ACC_Y ≤ -0.131106\n",
      "[ 0. 10.  0.  0.  0.]                     F11_MIN_on_ACC_Z ≤ -0.773\n",
      "[ 0.  3.  0.  0. 10.]                     F11_MIN_on_ACC_Z > -0.773\n",
      "[  5. 226.   0.   3.   2.]                 F2_MEAN_on_ACC_Y > -0.131106\n",
      "[  0.  42.   0. 295.  27.]     F8_VAR_on_ACC_V > 0.131636\n",
      "[ 0. 40.  0.  9. 17.]         F6_VAR_on_ACC_Y ≤ 0.0872378\n",
      "[ 0.  6.  0.  2. 17.]             F2_MEAN_on_ACC_Y ≤ -0.132202\n",
      "    [0. 6. 0. 1. 7.]                 F11_MIN_on_ACC_Z ≤ -0.551\n",
      "[ 0.  0.  0.  1. 10.]                 F11_MIN_on_ACC_Z > -0.551\n",
      "[ 0. 34.  0.  7.  0.]             F2_MEAN_on_ACC_Y > -0.132202\n",
      "[ 0. 27.  0.  0.  0.]                 F15_MAX_on_ACC_Z ≤ 0.991\n",
      "    [0. 7. 0. 7. 0.]                 F15_MAX_on_ACC_Z > 0.991\n",
      "[  0.   2.   0. 286.  10.]         F6_VAR_on_ACC_Y > 0.0872378\n",
      "[289.   4. 255.   3.   0.] F2_MEAN_on_ACC_Y > 0.00819231\n",
      "[  0.   0. 255.   0.   0.]     F6_VAR_on_ACC_Y ≤ 1.62777e-05\n",
      "[289.   4.   0.   3.   0.]     F6_VAR_on_ACC_Y > 1.62777e-05\n",
      "\n"
     ]
    }
   ],
   "source": [
    "import pickle\n",
    "\n",
    "with open('../../Orange_Data_Mining/Hoja_oseb/Klasifikacijsko_drevo-Hoja_oseb.pkcls', 'rb') as model:\n",
    "    lr = pickle.load(model)\n",
    "\n",
    "printed_tree = lr.print_tree()\n",
    "for i in printed_tree.split('\\n'):\n",
    "    print(i)"
   ]
  },
  {
   "cell_type": "markdown",
   "metadata": {},
   "source": [
    "## Pretvorba zapisa klasifikacijskega drevesa iz Orange Data Mining v obliko, ki se jo lahko uporabi v programu Unico GUI (zapis se shrani v datoteko txt)"
   ]
  },
  {
   "cell_type": "code",
   "execution_count": 9,
   "metadata": {},
   "outputs": [],
   "source": [
    "class_names = [\"Mirovanje\", \"Jaz\", \"Sestra\", \"Vati\", \"Mami\"]\n",
    "drevo = '../../Orange_Data_Mining/Hoja_oseb/Klasifikacijsko_drevo-Hoja_oseb.pkcls'\n",
    "datotekaZNovimZapisom = 'DrevoHojaOsebTXT-Orange.txt'\n",
    "\n",
    "orangeToUnicoTree(drevo, datotekaZNovimZapisom, class_names)"
   ]
  },
  {
   "cell_type": "markdown",
   "metadata": {},
   "source": [
    "## Sprememba klasifikacijskega drevesa iz .txt datoteke v if-else stavke, ki se lahko izvedejo v programski kodi Python (programska koda se shrani v datoteko txt)"
   ]
  },
  {
   "cell_type": "markdown",
   "metadata": {},
   "source": [
    "### Klasifikacijsko drevo iz Orange Data Mining"
   ]
  },
  {
   "cell_type": "code",
   "execution_count": 10,
   "metadata": {},
   "outputs": [],
   "source": [
    "txtTreeToIfElseStatements('DrevoHojaOsebTXT-Orange.txt', 'DrevoHojaOseb-IF_ELSE-Orange.txt')"
   ]
  },
  {
   "cell_type": "markdown",
   "metadata": {},
   "source": [
    "### Klasifikacijsko drevo iz Unico-GUI"
   ]
  },
  {
   "cell_type": "code",
   "execution_count": 11,
   "metadata": {},
   "outputs": [],
   "source": [
    "potDoUnicoDrevesa = '../../AlgoBuilder/Klasifikacijsko_drevo-Hoja_oseb/ST_decision_tree_20230626_160707_340.txt'\n",
    "txtTreeToIfElseStatements(potDoUnicoDrevesa, 'DrevoHojaOseb-IF_ELSE-Unico.txt')"
   ]
  },
  {
   "cell_type": "markdown",
   "metadata": {},
   "source": [
    "## Uporaba if-else stavkov klasifikacijskega drevesa za izracun klasifikacijske tocnosti in mere F1"
   ]
  },
  {
   "cell_type": "markdown",
   "metadata": {},
   "source": [
    "### Klasifikacijsko drevo iz Orange Data Mining"
   ]
  },
  {
   "cell_type": "code",
   "execution_count": 12,
   "metadata": {},
   "outputs": [
    {
     "name": "stdout",
     "output_type": "stream",
     "text": [
      "Klasifikacijska tocnost: 0.8864229765013055\n",
      "Mera F1: 0.8862326175387447\n"
     ]
    }
   ],
   "source": [
    "import pandas as pd\n",
    "dfIzhod = []\n",
    "\n",
    "def klasifikacija(vhodnaVrednost): \n",
    "\tif vhodnaVrednost[\"F2_MEAN_on_ACC_Y\"] <= 0.00819231: \n",
    "\t\tif vhodnaVrednost[\"F8_VAR_on_ACC_V\"] <= 0.131636: \n",
    "\t\t\tif vhodnaVrednost[\"F10_MIN_on_ACC_Y\"] <= -0.84: \n",
    "\t\t\t\tif vhodnaVrednost[\"F13_MAX_on_ACC_X\"] <= -0.163:\n",
    "\t\t\t\t\tdfIzhod.append(\"Vati\") \n",
    "\t\t\t\telif vhodnaVrednost[\"F13_MAX_on_ACC_X\"] > -0.163:\n",
    "\t\t\t\t\tdfIzhod.append(\"Mirovanje\") \n",
    "\t\t\telif vhodnaVrednost[\"F10_MIN_on_ACC_Y\"] > -0.84: \n",
    "\t\t\t\tif vhodnaVrednost[\"F3_MEAN_on_ACC_Z\"] <= -0.045375: \n",
    "\t\t\t\t\tif vhodnaVrednost[\"F9_MIN_on_ACC_X\"] <= -1.657:\n",
    "\t\t\t\t\t\tdfIzhod.append(\"Mami\") \n",
    "\t\t\t\t\telif vhodnaVrednost[\"F9_MIN_on_ACC_X\"] > -1.657: \n",
    "\t\t\t\t\t\tif vhodnaVrednost[\"F4_MEAN_on_ACC_V\"] <= 1.04024:\n",
    "\t\t\t\t\t\t\tdfIzhod.append(\"Vati\") \n",
    "\t\t\t\t\t\telif vhodnaVrednost[\"F4_MEAN_on_ACC_V\"] > 1.04024: \n",
    "\t\t\t\t\t\t\tif vhodnaVrednost[\"F14_MAX_on_ACC_Y\"] <= 0.428:\n",
    "\t\t\t\t\t\t\t\tdfIzhod.append(\"Mami\") \n",
    "\t\t\t\t\t\t\telif vhodnaVrednost[\"F14_MAX_on_ACC_Y\"] > 0.428:\n",
    "\t\t\t\t\t\t\t\tdfIzhod.append(\"Vati\") \n",
    "\t\t\t\telif vhodnaVrednost[\"F3_MEAN_on_ACC_Z\"] > -0.045375: \n",
    "\t\t\t\t\tif vhodnaVrednost[\"F2_MEAN_on_ACC_Y\"] <= -0.131106: \n",
    "\t\t\t\t\t\tif vhodnaVrednost[\"F11_MIN_on_ACC_Z\"] <= -0.773:\n",
    "\t\t\t\t\t\t\tdfIzhod.append(\"Mami\") \n",
    "\t\t\t\t\t\telif vhodnaVrednost[\"F11_MIN_on_ACC_Z\"] > -0.773:\n",
    "\t\t\t\t\t\t\tdfIzhod.append(\"Vati\") \n",
    "\t\t\t\t\telif vhodnaVrednost[\"F2_MEAN_on_ACC_Y\"] > -0.131106:\n",
    "\t\t\t\t\t\tdfIzhod.append(\"Mami\") \n",
    "\t\telif vhodnaVrednost[\"F8_VAR_on_ACC_V\"] > 0.131636: \n",
    "\t\t\tif vhodnaVrednost[\"F6_VAR_on_ACC_Y\"] <= 0.0872378: \n",
    "\t\t\t\tif vhodnaVrednost[\"F2_MEAN_on_ACC_Y\"] <= -0.132202: \n",
    "\t\t\t\t\tif vhodnaVrednost[\"F11_MIN_on_ACC_Z\"] <= -0.551:\n",
    "\t\t\t\t\t\tdfIzhod.append(\"Vati\") \n",
    "\t\t\t\t\telif vhodnaVrednost[\"F11_MIN_on_ACC_Z\"] > -0.551:\n",
    "\t\t\t\t\t\tdfIzhod.append(\"Vati\") \n",
    "\t\t\t\telif vhodnaVrednost[\"F2_MEAN_on_ACC_Y\"] > -0.132202: \n",
    "\t\t\t\t\tif vhodnaVrednost[\"F15_MAX_on_ACC_Z\"] <= 0.991:\n",
    "\t\t\t\t\t\tdfIzhod.append(\"Mami\") \n",
    "\t\t\t\t\telif vhodnaVrednost[\"F15_MAX_on_ACC_Z\"] > 0.991:\n",
    "\t\t\t\t\t\tdfIzhod.append(\"Mami\") \n",
    "\t\t\telif vhodnaVrednost[\"F6_VAR_on_ACC_Y\"] > 0.0872378:\n",
    "\t\t\t\tdfIzhod.append(\"Sestra\") \n",
    "\telif vhodnaVrednost[\"F2_MEAN_on_ACC_Y\"] > 0.00819231: \n",
    "\t\tif vhodnaVrednost[\"F6_VAR_on_ACC_Y\"] <= 1.62777e-05:\n",
    "\t\t\tdfIzhod.append(\"Mirovanje\") \n",
    "\t\telif vhodnaVrednost[\"F6_VAR_on_ACC_Y\"] > 1.62777e-05:\n",
    "\t\t\tdfIzhod.append(\"Jaz\") \n",
    "\n",
    "\n",
    "df = pd.read_csv('../../Zajeti_podatki/Hoja_oseb/Testni_podatki/Unico_zdruzeni_testni_podatki-KlasifikacijskoDrevo.csv')\n",
    "\n",
    "df.apply(lambda row : klasifikacija(row), axis = 1)\n",
    "\n",
    "from sklearn.metrics import accuracy_score, f1_score\n",
    "\n",
    "print(\"Klasifikacijska tocnost: \" + str(accuracy_score(df[\"class\"].values.tolist(), dfIzhod)))\n",
    "print(\"Mera F1: \" + str(f1_score(df[\"class\"].values.tolist(), dfIzhod, average='weighted')))"
   ]
  },
  {
   "cell_type": "markdown",
   "metadata": {},
   "source": [
    "### Klasifikacijsko drevo iz Unico-GUI"
   ]
  },
  {
   "cell_type": "code",
   "execution_count": 13,
   "metadata": {},
   "outputs": [
    {
     "name": "stdout",
     "output_type": "stream",
     "text": [
      "Klasifikacijska tocnost: 0.8994778067885117\n",
      "Mera F1: 0.8984998081595348\n"
     ]
    }
   ],
   "source": [
    "import pandas as pd\n",
    "dfIzhod = []\n",
    "\n",
    "def klasifikacija(vhodnaVrednost): \n",
    "\tif vhodnaVrednost[\"F2_MEAN_on_ACC_Y\"] <= 0.00840322: \n",
    "\t\tif vhodnaVrednost[\"F8_VAR_on_ACC_V\"] <= 0.130886: \n",
    "\t\t\tif vhodnaVrednost[\"F10_MIN_on_ACC_Y\"] <= -0.839918: \n",
    "\t\t\t\tif vhodnaVrednost[\"F13_MAX_on_ACC_X\"] <= -0.298938: \n",
    "\t\t\t\t\tif vhodnaVrednost[\"F5_VAR_on_ACC_X\"] <= 0.0664063:\n",
    "\t\t\t\t\t\tdfIzhod.append(\"Vati\") \n",
    "\t\t\t\t\telif vhodnaVrednost[\"F5_VAR_on_ACC_X\"] > 0.0664063: \n",
    "\t\t\t\t\t\tif vhodnaVrednost[\"F7_VAR_on_ACC_Z\"] <= 0.0620117: \n",
    "\t\t\t\t\t\t\tif vhodnaVrednost[\"F1_MEAN_on_ACC_X\"] <= -1.0127:\n",
    "\t\t\t\t\t\t\t\tdfIzhod.append(\"Jaz\") \n",
    "\t\t\t\t\t\t\telif vhodnaVrednost[\"F1_MEAN_on_ACC_X\"] > -1.0127:\n",
    "\t\t\t\t\t\t\t\tdfIzhod.append(\"Vati\") \n",
    "\t\t\t\t\t\telif vhodnaVrednost[\"F7_VAR_on_ACC_Z\"] > 0.0620117: \n",
    "\t\t\t\t\t\t\tif vhodnaVrednost[\"F9_MIN_on_ACC_X\"] <= -1.64355:\n",
    "\t\t\t\t\t\t\t\tdfIzhod.append(\"Sestra\") \n",
    "\t\t\t\t\t\t\telif vhodnaVrednost[\"F9_MIN_on_ACC_X\"] > -1.64355:\n",
    "\t\t\t\t\t\t\t\tdfIzhod.append(\"Mami\") \n",
    "\t\t\t\telif vhodnaVrednost[\"F13_MAX_on_ACC_X\"] > -0.298938: \n",
    "\t\t\t\t\tif vhodnaVrednost[\"F1_MEAN_on_ACC_X\"] <= -0.851563: \n",
    "\t\t\t\t\t\tif vhodnaVrednost[\"F1_MEAN_on_ACC_X\"] <= -1.00391: \n",
    "\t\t\t\t\t\t\tif vhodnaVrednost[\"F1_MEAN_on_ACC_X\"] <= -1.01074:\n",
    "\t\t\t\t\t\t\t\tdfIzhod.append(\"Vati\") \n",
    "\t\t\t\t\t\t\telif vhodnaVrednost[\"F1_MEAN_on_ACC_X\"] > -1.01074:\n",
    "\t\t\t\t\t\t\t\tdfIzhod.append(\"Jaz\") \n",
    "\t\t\t\t\t\telif vhodnaVrednost[\"F1_MEAN_on_ACC_X\"] > -1.00391:\n",
    "\t\t\t\t\t\t\tdfIzhod.append(\"Mami\") \n",
    "\t\t\t\t\telif vhodnaVrednost[\"F1_MEAN_on_ACC_X\"] > -0.851563:\n",
    "\t\t\t\t\t\tdfIzhod.append(\"Mirovanje\") \n",
    "\t\t\telif vhodnaVrednost[\"F10_MIN_on_ACC_Y\"] > -0.839918: \n",
    "\t\t\t\tif vhodnaVrednost[\"F3_MEAN_on_ACC_Z\"] <= -0.0453391: \n",
    "\t\t\t\t\tif vhodnaVrednost[\"F9_MIN_on_ACC_X\"] <= -1.65625: \n",
    "\t\t\t\t\t\tif vhodnaVrednost[\"F14_MAX_on_ACC_Y\"] <= 0.449951: \n",
    "\t\t\t\t\t\t\tif vhodnaVrednost[\"F1_MEAN_on_ACC_X\"] <= -1.08789:\n",
    "\t\t\t\t\t\t\t\tdfIzhod.append(\"Vati\") \n",
    "\t\t\t\t\t\t\telif vhodnaVrednost[\"F1_MEAN_on_ACC_X\"] > -1.08789:\n",
    "\t\t\t\t\t\t\t\tdfIzhod.append(\"Mami\") \n",
    "\t\t\t\t\t\telif vhodnaVrednost[\"F14_MAX_on_ACC_Y\"] > 0.449951: \n",
    "\t\t\t\t\t\t\tif vhodnaVrednost[\"F1_MEAN_on_ACC_X\"] <= -0.959473:\n",
    "\t\t\t\t\t\t\t\tdfIzhod.append(\"Jaz\") \n",
    "\t\t\t\t\t\t\telif vhodnaVrednost[\"F1_MEAN_on_ACC_X\"] > -0.959473:\n",
    "\t\t\t\t\t\t\t\tdfIzhod.append(\"Mami\") \n",
    "\t\t\t\t\telif vhodnaVrednost[\"F9_MIN_on_ACC_X\"] > -1.65625: \n",
    "\t\t\t\t\t\tif vhodnaVrednost[\"F1_MEAN_on_ACC_X\"] <= -1.02051:\n",
    "\t\t\t\t\t\t\tdfIzhod.append(\"Mami\") \n",
    "\t\t\t\t\t\telif vhodnaVrednost[\"F1_MEAN_on_ACC_X\"] > -1.02051:\n",
    "\t\t\t\t\t\t\tdfIzhod.append(\"Vati\") \n",
    "\t\t\t\telif vhodnaVrednost[\"F3_MEAN_on_ACC_Z\"] > -0.0453391:\n",
    "\t\t\t\t\tdfIzhod.append(\"Mami\") \n",
    "\t\telif vhodnaVrednost[\"F8_VAR_on_ACC_V\"] > 0.130886: \n",
    "\t\t\tif vhodnaVrednost[\"F6_VAR_on_ACC_Y\"] <= 0.0873474: \n",
    "\t\t\t\tif vhodnaVrednost[\"F2_MEAN_on_ACC_Y\"] <= -0.132202: \n",
    "\t\t\t\t\tif vhodnaVrednost[\"F7_VAR_on_ACC_Z\"] <= 0.115051: \n",
    "\t\t\t\t\t\tif vhodnaVrednost[\"F1_MEAN_on_ACC_X\"] <= -0.949219:\n",
    "\t\t\t\t\t\t\tdfIzhod.append(\"Vati\") \n",
    "\t\t\t\t\t\telif vhodnaVrednost[\"F1_MEAN_on_ACC_X\"] > -0.949219: \n",
    "\t\t\t\t\t\t\tif vhodnaVrednost[\"F1_MEAN_on_ACC_X\"] <= -0.914551:\n",
    "\t\t\t\t\t\t\t\tdfIzhod.append(\"Mami\") \n",
    "\t\t\t\t\t\t\telif vhodnaVrednost[\"F1_MEAN_on_ACC_X\"] > -0.914551:\n",
    "\t\t\t\t\t\t\t\tdfIzhod.append(\"Vati\") \n",
    "\t\t\t\t\telif vhodnaVrednost[\"F7_VAR_on_ACC_Z\"] > 0.115051: \n",
    "\t\t\t\t\t\tif vhodnaVrednost[\"F6_VAR_on_ACC_Y\"] <= 0.0690308:\n",
    "\t\t\t\t\t\t\tdfIzhod.append(\"Mami\") \n",
    "\t\t\t\t\t\telif vhodnaVrednost[\"F6_VAR_on_ACC_Y\"] > 0.0690308:\n",
    "\t\t\t\t\t\t\tdfIzhod.append(\"Sestra\") \n",
    "\t\t\t\telif vhodnaVrednost[\"F2_MEAN_on_ACC_Y\"] > -0.132202: \n",
    "\t\t\t\t\tif vhodnaVrednost[\"F15_MAX_on_ACC_Z\"] <= 1.21582: \n",
    "\t\t\t\t\t\tif vhodnaVrednost[\"F1_MEAN_on_ACC_X\"] <= -0.964355:\n",
    "\t\t\t\t\t\t\tdfIzhod.append(\"Mami\") \n",
    "\t\t\t\t\t\telif vhodnaVrednost[\"F1_MEAN_on_ACC_X\"] > -0.964355: \n",
    "\t\t\t\t\t\t\tif vhodnaVrednost[\"F2_MEAN_on_ACC_Y\"] <= -0.128174:\n",
    "\t\t\t\t\t\t\t\tdfIzhod.append(\"Mami\") \n",
    "\t\t\t\t\t\t\telif vhodnaVrednost[\"F2_MEAN_on_ACC_Y\"] > -0.128174:\n",
    "\t\t\t\t\t\t\t\tdfIzhod.append(\"Sestra\") \n",
    "\t\t\t\t\telif vhodnaVrednost[\"F15_MAX_on_ACC_Z\"] > 1.21582: \n",
    "\t\t\t\t\t\tif vhodnaVrednost[\"F2_MEAN_on_ACC_Y\"] <= -0.110779:\n",
    "\t\t\t\t\t\t\tdfIzhod.append(\"Mami\") \n",
    "\t\t\t\t\t\telif vhodnaVrednost[\"F2_MEAN_on_ACC_Y\"] > -0.110779:\n",
    "\t\t\t\t\t\t\tdfIzhod.append(\"Sestra\") \n",
    "\t\t\telif vhodnaVrednost[\"F6_VAR_on_ACC_Y\"] > 0.0873474: \n",
    "\t\t\t\tif vhodnaVrednost[\"F13_MAX_on_ACC_X\"] <= -0.505696: \n",
    "\t\t\t\t\tif vhodnaVrednost[\"F6_VAR_on_ACC_Y\"] <= 0.11261:\n",
    "\t\t\t\t\t\tdfIzhod.append(\"Sestra\") \n",
    "\t\t\t\t\telif vhodnaVrednost[\"F6_VAR_on_ACC_Y\"] > 0.11261:\n",
    "\t\t\t\t\t\tdfIzhod.append(\"Vati\") \n",
    "\t\t\t\telif vhodnaVrednost[\"F13_MAX_on_ACC_X\"] > -0.505696: \n",
    "\t\t\t\t\tif vhodnaVrednost[\"F14_MAX_on_ACC_Y\"] <= 0.259033:\n",
    "\t\t\t\t\t\tdfIzhod.append(\"Vati\") \n",
    "\t\t\t\t\telif vhodnaVrednost[\"F14_MAX_on_ACC_Y\"] > 0.259033:\n",
    "\t\t\t\t\t\tdfIzhod.append(\"Sestra\") \n",
    "\telif vhodnaVrednost[\"F2_MEAN_on_ACC_Y\"] > 0.00840322: \n",
    "\t\tif vhodnaVrednost[\"F6_VAR_on_ACC_Y\"] <= 6.81505e-005:\n",
    "\t\t\tdfIzhod.append(\"Mirovanje\") \n",
    "\t\telif vhodnaVrednost[\"F6_VAR_on_ACC_Y\"] > 6.81505e-005:\n",
    "\t\t\tdfIzhod.append(\"Jaz\") \n",
    "\n",
    "\n",
    "df = pd.read_csv('../../Zajeti_podatki/Hoja_oseb/Testni_podatki/Unico_zdruzeni_testni_podatki-KlasifikacijskoDrevo.csv')\n",
    "\n",
    "df.apply(lambda row : klasifikacija(row), axis = 1)\n",
    "\n",
    "from sklearn.metrics import accuracy_score, f1_score\n",
    "\n",
    "print(\"Klasifikacijska tocnost: \" + str(accuracy_score(df[\"class\"].values.tolist(), dfIzhod)))\n",
    "print(\"Mera F1: \" + str(f1_score(df[\"class\"].values.tolist(), dfIzhod, average='weighted')))\n"
   ]
  }
 ],
 "metadata": {
  "kernelspec": {
   "display_name": "Python 3",
   "language": "python",
   "name": "python3"
  },
  "language_info": {
   "codemirror_mode": {
    "name": "ipython",
    "version": 3
   },
   "file_extension": ".py",
   "mimetype": "text/x-python",
   "name": "python",
   "nbconvert_exporter": "python",
   "pygments_lexer": "ipython3",
   "version": "3.8.8"
  },
  "orig_nbformat": 4
 },
 "nbformat": 4,
 "nbformat_minor": 2
}
