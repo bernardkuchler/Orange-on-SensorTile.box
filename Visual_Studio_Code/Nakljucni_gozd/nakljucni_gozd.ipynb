{
 "cells": [
  {
   "cell_type": "markdown",
   "metadata": {},
   "source": [
    "# Jakost gibanja plosce s tipali SensorTile.box"
   ]
  },
  {
   "cell_type": "markdown",
   "metadata": {},
   "source": [
    "## Pregled ali se v Orange Data Mining izvede predprocesiranje podatkov pred klasifikacijo z nakljucnim gozdom (V tem primeru se zamenjajo le manjkajoce vrednosti, ki jih v nasih podatkih ni) "
   ]
  },
  {
   "cell_type": "code",
   "execution_count": 2,
   "metadata": {},
   "outputs": [
    {
     "data": {
      "text/plain": [
       "ContinuousVariable(name='F1_VAR_on_ACC_V',\n",
       "                   number_of_decimals=3,\n",
       "                   compute_value=ReplaceUnknowns(variable=ContinuousVariable(name='F1_VAR_on_ACC_V',\n",
       "                                                      number_of_decimals=3),\n",
       "                                   value=0.22330145150297734))"
      ]
     },
     "execution_count": 2,
     "metadata": {},
     "output_type": "execute_result"
    }
   ],
   "source": [
    "import pickle\n",
    "\n",
    "with open('../../Orange_Data_Mining/Jakost_gibanja/Nakljucni_gozd-Jakost_gibanja.pkcls', 'rb') as model:\n",
    "    lr = pickle.load(model)\n",
    "\n",
    "#lr.domain\n",
    "lr.domain[0]"
   ]
  },
  {
   "cell_type": "markdown",
   "metadata": {},
   "source": [
    "## Pretvorba nakljucnega gozda iz Orange Data Mining v ONNX format"
   ]
  },
  {
   "cell_type": "code",
   "execution_count": 25,
   "metadata": {},
   "outputs": [],
   "source": [
    "import pickle\n",
    "\n",
    "# pickleFile -> pickle file with random forest model\n",
    "# onnxFile -> new onnx file with model converted from pickle file\n",
    "# numberOffloatInputs -> number of features (here we are using floating point values (FloatTensorType), \n",
    "# if you want to use other data types they can be found in skl2onnx.common.data_types from the skl2onnx library)\n",
    "def orangeToONNX(pickleFile, onnxFile, numberOffloatInputs):\n",
    "\n",
    "    with open(pickleFile, 'rb') as model:\n",
    "        lr = pickle.load(model)\n",
    "\n",
    "    skl_model = lr.skl_model\n",
    "\n",
    "\n",
    "\n",
    "    from skl2onnx import convert_sklearn\n",
    "    from skl2onnx.common.data_types import FloatTensorType\n",
    "\n",
    "    initial_type = [('float_input', FloatTensorType([None, numberOffloatInputs]))]\n",
    "    onx = convert_sklearn(skl_model, initial_types=initial_type)\n",
    "    with open(onnxFile, \"wb\") as f:\n",
    "        f.write(onx.SerializeToString())\n",
    "\n",
    "\n",
    "nakljucniGozd = '../../Orange_Data_Mining/Jakost_gibanja/Nakljucni_gozd-Jakost_gibanja.pkcls'\n",
    "nakljucniGozdONNX = \"Nakljucni_gozd-Jakost_gibanja-ONNX.onnx\"\n",
    "\n",
    "orangeToONNX(nakljucniGozd, nakljucniGozdONNX, 1)\n"
   ]
  },
  {
   "cell_type": "markdown",
   "metadata": {},
   "source": [
    "## Izracun klasifikacijske tocnosti in mere F1 ter prikaz tabele napacnih klasifikacij (Rezultati iz X-CUBE-AI)"
   ]
  },
  {
   "cell_type": "code",
   "execution_count": 22,
   "metadata": {},
   "outputs": [
    {
     "name": "stdout",
     "output_type": "stream",
     "text": [
      "Klasifikacijska tocnost: 0.8967391304347826\n",
      "Mera F1: 0.8966786535800884\n"
     ]
    },
    {
     "data": {
      "image/png": "[encoded data removed]",
      "text/plain": [
       "<Figure size 432x288 with 2 Axes>"
      ]
     },
     "metadata": {
      "needs_background": "light"
     },
     "output_type": "display_data"
    }
   ],
   "source": [
    "import pandas as pd\n",
    "from sklearn.metrics import accuracy_score, f1_score\n",
    "\n",
    "from sklearn.metrics import confusion_matrix\n",
    "import matplotlib.pyplot as plt\n",
    "from sklearn.metrics import ConfusionMatrixDisplay\n",
    "\n",
    "# datoteke -> list of csv files with classification results (files must be written in order of classification class indices (alphabeticall order of class names))\n",
    "# imenaRazredov -> list of class names for values to be classified to (order is not important as it gets sorted alphabetically)\n",
    "def CA_F1_Matrix(datoteke, imenaRazredov):\n",
    "    dfPred = pd.DataFrame()\n",
    "    arrayTrue = []\n",
    "\n",
    "    for indeks, dat in enumerate(datoteke):\n",
    "        df = pd.read_csv(dat, skiprows=[1, 2, 3]) \n",
    "        df.columns.values[0] = \"class\"\n",
    "\n",
    "        dfPred = pd.concat([dfPred, df], axis=0)\n",
    "\n",
    "        countVal = 0\n",
    "\n",
    "        for i in df['class'].value_counts().index:\n",
    "            countVal += df['class'].value_counts()[i]\n",
    "\n",
    "        arrayTrue += [indeks] * countVal\n",
    "\n",
    "\n",
    "    ###### Print classification accuracy and F1 score\n",
    "    ca = accuracy_score(arrayTrue, dfPred['class'].values.tolist())\n",
    "    f1 = f1_score(arrayTrue, dfPred['class'].values.tolist(), average='weighted')\n",
    "\n",
    "    print(\"Klasifikacijska tocnost: \" + str(ca))\n",
    "    print(\"Mera F1: \" + str(f1))\n",
    "\n",
    "    ###### Display confusion matrix\n",
    "    matrika = confusion_matrix(arrayTrue, dfPred['class'].values.tolist())\n",
    "\n",
    "    orderedClassNames = imenaRazredov.copy()\n",
    "    orderedClassNames.sort()\n",
    "\n",
    "    disp = ConfusionMatrixDisplay(confusion_matrix=matrika, display_labels=orderedClassNames)\n",
    "    disp.plot()\n",
    "    plt.show()\n",
    "\n",
    "\n",
    "###################################################################################################################################################################################\n",
    "\n",
    "\n",
    "datoteke = [\"../../Zajeti_podatki/Jakost_gibanja/Rezultati_klasifikacij-X-CUBE-AI/Nakljucni_gozd/validacija-mirovanje.csv\",\n",
    "            \"../../Zajeti_podatki/Jakost_gibanja/Rezultati_klasifikacij-X-CUBE-AI/Nakljucni_gozd/validacija-srednja_jakost.csv\",\n",
    "            \"../../Zajeti_podatki/Jakost_gibanja/Rezultati_klasifikacij-X-CUBE-AI/Nakljucni_gozd/validacija-velika_jakost.csv\"]\n",
    "\n",
    "imenaRazredov = [\"mirovanje\", \"srednja_jakost\", \"velika_jakost\"]\n",
    "\n",
    "CA_F1_Matrix(datoteke, imenaRazredov)"
   ]
  },
  {
   "cell_type": "markdown",
   "metadata": {},
   "source": [
    "## NanoEdge AI Studio: Izracun klasifikacijske tocnosti in mere F1 ter prikaz tabele napacnih klasifikacij (Rezultati modela nakljucnega gozda iz NanoEdge AI Studio)"
   ]
  },
  {
   "cell_type": "code",
   "execution_count": 1,
   "metadata": {},
   "outputs": [
    {
     "name": "stdout",
     "output_type": "stream",
     "text": [
      "Klasifikacijska tocnost: 0.8532608695652174\n",
      "Mera F1: 0.8510817193871548\n"
     ]
    },
    {
     "data": {
      "image/png": "[encoded data removed]",
      "text/plain": [
       "<Figure size 432x288 with 2 Axes>"
      ]
     },
     "metadata": {
      "needs_background": "light"
     },
     "output_type": "display_data"
    }
   ],
   "source": [
    "import pandas as pd\n",
    "from sklearn.metrics import accuracy_score, f1_score\n",
    "\n",
    "from sklearn.metrics import confusion_matrix\n",
    "import matplotlib.pyplot as plt\n",
    "from sklearn.metrics import ConfusionMatrixDisplay\n",
    "\n",
    "# trueClasses -> list of true classification classes\n",
    "# predictedClasses -> list of predicted classification classes (has to be same length as trueClasses)\n",
    "# classNames -> list of classification class names (in alphabetical order)\n",
    "def NEAIS_CA_F1_Matrix(trueClasses, predictedClasses, classNames):\n",
    "    ca = accuracy_score(trueClasses, predictedClasses)\n",
    "    f1 = f1_score(trueClasses, predictedClasses, average='weighted')\n",
    "    print(\"Klasifikacijska tocnost: \" + str(ca))\n",
    "    print(\"Mera F1: \" + str(f1))\n",
    "\n",
    "    matrika = confusion_matrix(trueClasses, predictedClasses)\n",
    "    \n",
    "    disp = ConfusionMatrixDisplay(confusion_matrix=matrika, display_labels=classNames)\n",
    "    disp.plot()\n",
    "    plt.show()\n",
    "\n",
    "\n",
    "arrayPredicted = [0] * 60 + [1] * 56 + [2] * 6 + [2] * 41 + [1] * 21\n",
    "arrayTrue = [0] * 60 + [1] * 62 + [2] * 62\n",
    "imenaRazredov = [\"mirovanje\", \"srednja_jakost\", \"velika_jakost\"]\n",
    "NEAIS_CA_F1_Matrix(arrayTrue, arrayPredicted, imenaRazredov)\n"
   ]
  },
  {
   "cell_type": "markdown",
   "metadata": {},
   "source": [
    "---"
   ]
  },
  {
   "cell_type": "markdown",
   "metadata": {},
   "source": [
    "# Hoja oseb"
   ]
  },
  {
   "cell_type": "markdown",
   "metadata": {},
   "source": [
    "## Pregled ali se v Orange Data Mining izvede predprocesiranje podatkov pred klasifikacijo z nakljucnim gozdom (V tem primeru se zamenjajo le manjkajoce vrednosti (ki jih v nasih podatkih ni), pri vseh 16ih atributih) "
   ]
  },
  {
   "cell_type": "code",
   "execution_count": 20,
   "metadata": {},
   "outputs": [
    {
     "data": {
      "text/plain": [
       "ContinuousVariable(name='F16_acc_Magnituda_RMS',\n",
       "                   number_of_decimals=3,\n",
       "                   compute_value=ReplaceUnknowns(variable=ContinuousVariable(name='F16_acc_Magnituda_RMS',\n",
       "                                                      number_of_decimals=3),\n",
       "                                   value=1.1134635041015108))"
      ]
     },
     "execution_count": 20,
     "metadata": {},
     "output_type": "execute_result"
    }
   ],
   "source": [
    "import pickle\n",
    "\n",
    "with open('../../Orange_Data_Mining/Hoja_oseb/Nakljucni_gozd-Hoja_oseb.pkcls', 'rb') as model:\n",
    "    lr = pickle.load(model)\n",
    "\n",
    "#LOCENO PREVERJANJE VSAKEGA ATRIBUTA (ukaz print() ne izpise predprocesiranja podatkov za posamezni atribut)\n",
    "#lr.domain\n",
    "#lr.domain[0]\n",
    "#lr.domain[1]\n",
    "#lr.domain[2]\n",
    "#lr.domain[3]\n",
    "#lr.domain[4]\n",
    "#lr.domain[5]\n",
    "#lr.domain[6]\n",
    "#lr.domain[7]\n",
    "#lr.domain[8]\n",
    "#lr.domain[9]\n",
    "#lr.domain[10]\n",
    "#lr.domain[11]\n",
    "#lr.domain[12]\n",
    "#lr.domain[13]\n",
    "#lr.domain[14]\n",
    "lr.domain[15]"
   ]
  },
  {
   "cell_type": "markdown",
   "metadata": {},
   "source": [
    "## Pretvorba nakljucnega gozda iz Orange Data Mining v ONNX format"
   ]
  },
  {
   "cell_type": "code",
   "execution_count": 26,
   "metadata": {},
   "outputs": [],
   "source": [
    "nakljucniGozd = '../../Orange_Data_Mining/Hoja_oseb/Nakljucni_gozd-Hoja_oseb.pkcls'\n",
    "nakljucniGozdONNX = \"Nakljucni_gozd-Hoja_oseb-ONNX.onnx\"\n",
    "\n",
    "orangeToONNX(nakljucniGozd, nakljucniGozdONNX, 16)"
   ]
  },
  {
   "cell_type": "markdown",
   "metadata": {},
   "source": [
    "## Izracun klasifikacijske tocnosti in mere F1 ter prikaz tabele napacnih klasifikacij (Rezultati iz X-CUBE-AI)"
   ]
  },
  {
   "cell_type": "code",
   "execution_count": 23,
   "metadata": {},
   "outputs": [
    {
     "name": "stdout",
     "output_type": "stream",
     "text": [
      "Klasifikacijska tocnost: 0.9343780607247796\n",
      "Mera F1: 0.9338266094006059\n"
     ]
    },
    {
     "data": {
      "image/png": "[encoded data removed]",
      "text/plain": [
       "<Figure size 432x288 with 2 Axes>"
      ]
     },
     "metadata": {
      "needs_background": "light"
     },
     "output_type": "display_data"
    }
   ],
   "source": [
    "datoteke = [\"../../Zajeti_podatki/Hoja_oseb/Rezultati_klasifikacij-X-CUBE-AI/Nakljucni_gozd/REZULTATI-Jaz.csv\",\n",
    "            \"../../Zajeti_podatki/Hoja_oseb/Rezultati_klasifikacij-X-CUBE-AI/Nakljucni_gozd/REZULTATI-Mami.csv\",\n",
    "            \"../../Zajeti_podatki/Hoja_oseb/Rezultati_klasifikacij-X-CUBE-AI/Nakljucni_gozd/REZULTATI-Mirovanje.csv\",\n",
    "            \"../../Zajeti_podatki/Hoja_oseb/Rezultati_klasifikacij-X-CUBE-AI/Nakljucni_gozd/REZULTATI-Sestra.csv\",\n",
    "            \"../../Zajeti_podatki/Hoja_oseb/Rezultati_klasifikacij-X-CUBE-AI/Nakljucni_gozd/REZULTATI-Vati.csv\",]\n",
    "\n",
    "imenaRazredov = [\"jaz\", \"mami\", \"mirovanje\", \"sestra\", \"vati\"]\n",
    "\n",
    "CA_F1_Matrix(datoteke, imenaRazredov)"
   ]
  },
  {
   "cell_type": "markdown",
   "metadata": {},
   "source": [
    "## NanoEdge AI Studio: Izracun klasifikacijske tocnosti in mere F1 ter prikaz tabele napacnih klasifikacij (Rezultati modela nakljucnega gozda iz NanoEdge AI Studio)"
   ]
  },
  {
   "cell_type": "code",
   "execution_count": 2,
   "metadata": {},
   "outputs": [
    {
     "name": "stdout",
     "output_type": "stream",
     "text": [
      "Klasifikacijska tocnost: 0.6392425726412014\n",
      "Mera F1: 0.5937187812153505\n"
     ]
    },
    {
     "data": {
      "image/png": "[encoded data removed]",
      "text/plain": [
       "<Figure size 432x288 with 2 Axes>"
      ]
     },
     "metadata": {
      "needs_background": "light"
     },
     "output_type": "display_data"
    }
   ],
   "source": [
    "arrayPredicted = [0] * 387 + [1] * 161 + [3] * 61 + [4] * 1 +    [1] * 359 + [0] * 204 + [3] * 38 + [4] * 15 +    [2] * 603 + [1] * 2 + [4] * 7 +    [3] * 571 + [0] * 35 + [1] * 1 + [2] * 1 + [4] * 1 +    [4] * 38 + [0] * 282 + [1] * 158 + [2] * 2 + [3] * 136\n",
    "arrayTrue = [0] * 610 + [1] * 616 + [2] * 612 + [3] * 609 + [4] * 616\n",
    "imenaRazredov = [\"jaz\", \"mami\", \"mirovanje\", \"sestra\", \"vati\"]\n",
    "NEAIS_CA_F1_Matrix(arrayTrue, arrayPredicted, imenaRazredov)"
   ]
  }
 ],
 "metadata": {
  "kernelspec": {
   "display_name": "Python 3",
   "language": "python",
   "name": "python3"
  },
  "language_info": {
   "codemirror_mode": {
    "name": "ipython",
    "version": 3
   },
   "file_extension": ".py",
   "mimetype": "text/x-python",
   "name": "python",
   "nbconvert_exporter": "python",
   "pygments_lexer": "ipython3",
   "version": "3.8.8"
  },
  "orig_nbformat": 4
 },
 "nbformat": 4,
 "nbformat_minor": 2
}
